{
 "metadata": {
  "language_info": {
   "codemirror_mode": {
    "name": "ipython",
    "version": 3
   },
   "file_extension": ".py",
   "mimetype": "text/x-python",
   "name": "python",
   "nbconvert_exporter": "python",
   "pygments_lexer": "ipython3",
   "version": "3.7.4-final"
  },
  "orig_nbformat": 2,
  "kernelspec": {
   "name": "python3",
   "display_name": "Python 3",
   "language": "python"
  }
 },
 "nbformat": 4,
 "nbformat_minor": 2,
 "cells": [
  {
   "cell_type": "code",
   "execution_count": 1,
   "metadata": {},
   "outputs": [
    {
     "output_type": "stream",
     "name": "stdout",
     "text": [
      "Requirement already satisfied: lxml in c:\\users\\srini\\anaconda3\\lib\\site-packages (4.4.1)\n"
     ]
    }
   ],
   "source": [
    "!pip install lxml\n",
    "! pip install requests"
   ]
  },
  {
   "cell_type": "code",
   "execution_count": 4,
   "metadata": {},
   "outputs": [],
   "source": [
    "import pandas as pd\n",
    "import requests # Make HTTP calls\n",
    "from lxml import html # Parsing the HTML"
   ]
  },
  {
   "cell_type": "code",
   "execution_count": 16,
   "metadata": {},
   "outputs": [
    {
     "output_type": "execute_result",
     "data": {
      "text/plain": [
       "mn nav-template nav-flyout-content nav-tpl-itemList nav-flyout-accessibility\\'><div class=\\'nav-title\\'>Your Account</div><a href=\\'/gp/css/homepage.html?ref_=nav_AccountFlyout_ya\\' class=\\'nav-link nav-item\\'><span class=\\'nav-text\\'>Your Account</span></a> <a id=\\'nav_prefetch_yourorders\\' href=\\'/gp/css/order-history?ref_=nav_AccountFlyout_orders\\' class=\\'nav-link nav-item\\'><span class=\\'nav-text\\'>Your Orders</span></a> <a href=\\'/gp/registry/wishlist?requiresSignIn=1&ref_=nav_AccountFlyout_wl\\' class=\\'nav-link nav-item\\'><span class=\\'nav-text\\'>Your Wish List</span></a> <a href=\\'/gp/yourstore?ref_=nav_AccountFlyout_recs\\' class=\\'nav-link nav-item\\'><span class=\\'nav-text\\'>Your Recommendations</span></a> <a href=\\'/gp/primecentral?ref_=nav_AccountFlyout_prime\\' class=\\'nav-link nav-item\\'><span class=\\'nav-text\\'>Your Prime Membership</span></a> <a href=\\'/gp/redirect.html?location=https%3A%2F%2Fwww.primevideo.com%2F%3Fref_%3D_apv&source=nav_linktree&token=13D4F90D28CD96790B94E6091246BB1B2AE9FA05\\' class=\\'nav-link nav-item\\'><span class=\\'nav-text\\'>Your Prime Video</span></a> <a href=\\'/auto-deliveries?ref_=nav_AccountFlyout_sns\\' class=\\'nav-link nav-item\\'><span class=\\'nav-text\\'>Your Subscribe & Save Items</span></a> <a href=\\'/hz5/yourmembershipsandsubscriptions?ref_=nav_AccountFlyout_digital_subscriptions\\' class=\\'nav-link nav-item\\'><span class=\\'nav-text\\'>Memberships & Subscriptions</span></a> <a href=\\'/gp/browse.html?node=21102587031&ref_=nav_ya_flyout_b2b_reg\\' class=\\'nav-link nav-item\\'><span class=\\'nav-text\\'>Your Amazon Business Account</span></a> <a href=\\'/b/?node=2838698031&ld=AZINSOAYAFlyout&ref_=nav_AccountFlyout_sell\\' class=\\'nav-link nav-item\\'><span class=\\'nav-text\\'>Your Seller Account</span></a> <a href=\\'/hz/mycd/myx?ref_=nav_AccountFlyout_myk\\' class=\\'nav-link nav-item\\'><span class=\\'nav-text\\'>Manage Your Content and Devices</span></a></div></div>\"},\\n      \"signinContent\":{\"html\":\"<div id=\\'nav-signin-tooltip\\'><a href=\\'https://www.amazon.in/ap/signin?openid.pape.max_auth_age=0&openid.return_to=https%3A%2F%2Fwww.amazon.in%2Fswimming-top%2Fs%2F%3F_encoding%3DUTF8%26k%3Dswimming%2520top%26ref_%3Dnav_custrec_signin&openid.identity=http%3A%2F%2Fspecs.openid.net%2Fauth%2F2.0%2Fidentifier_select&openid.assoc_handle=inflex&openid.mode=checkid_setup&openid.claimed_id=http%3A%2F%2Fspecs.openid.net%2Fauth%2F2.0%2Fidentifier_select&openid.ns=http%3A%2F%2Fspecs.openid.net%2Fauth%2F2.0&\\' class=\\'nav-action-button\\' data-nav-role=\\'signin\\' data-nav-ref=\\'nav_custrec_signin\\'><span class=\\'nav-action-inner\\'>Sign in</span></a><div class=\\'nav-signin-tooltip-footer\\'>New customer? <a href=\\'https://www.amazon.in/ap/register?openid.pape.max_auth_age=0&openid.return_to=https%3A%2F%2Fwww.amazon.in%2Fswimming-top%2Fs%2F%3F_encoding%3DUTF8%26k%3Dswimming%2520top%26ref_%3Dnav_custrec_newcust&openid.identity=http%3A%2F%2Fspecs.openid.net%2Fauth%2F2.0%2Fidentifier_select&openid.assoc_handle=inflex&openid.mode=checkid_setup&openid.claimed_id=http%3A%2F%2Fspecs.openid.net%2Fauth%2F2.0%2Fidentifier_select&openid.ns=http%3A%2F%2Fspecs.openid.net%2Fauth%2F2.0&\\' class=\\'nav-a\\'>Start here.</a></div></div>\"},\\n      \"templates\":{\"itemList\":\"<# var hasColumns = (function () {  var checkColumns = function (_items) {    if (!_items) {      return false;    }    for (var i=0; i<_items.length; i++) {      if (_items[i].columnBreak || (_items[i].items && checkColumns(_items[i].items))) {        return true;      }    }    return false;  };  return checkColumns(items);}()); #><# if(hasColumns) { #>  <# if(items[0].image && items[0].image.src) { #>    <div class=\\'nav-column nav-column-first nav-column-image\\'>  <# } else if (items[0].greeting) { #>    <div class=\\'nav-column nav-column-first nav-column-greeting\\'>  <# } else { #>    <div class=\\'nav-column nav-column-first\\'>  <# } #><# } #><# var renderItems = function(items) { #>  <# jQuery.each(items, function (i, item) { #>    <# if(hasColumns && item.columnBreak) { #>      <# if(item.image && item.image.src) { #>        </div><div class=\\'nav-column nav-column-notfirst nav-column-break nav-column-image\\'>      <# } else if (item.greeting) { #>        </div><div class=\\'nav-column nav-column-notfirst nav-column-break nav-column-greeting\\'>      <# } else { #>        </div><div class=\\'nav-column nav-column-notfirst nav-column-break\\'>      <# } #>    <# } #>    <# if(item.dividerBefore) { #>      <div class=\\'nav-divider\\'></div>    <# } #>    <# if(item.text || item.content) { #>      <# if(item.url) { #>        <a href=\\'<#=item.url #>\\' class=\\'nav-link      <# } else {#>        <span class=\\'      <# } #>      <# if(item.panelKey) { #>        nav-hasPanel      <# } #>      <# if(item.items) { #>        nav-title      <# } #>      <# if(item.decorate == \\'carat\\') { #>        nav-carat      <# } #>      <# if(item.decorate == \\'nav-action-button\\') { #>        nav-action-button      <# } #>      nav-item\\'      <# if(item.extra) { #>        <#=item.extra #>      <# } #>      <# if(item.id) { #>        id=\\'<#=item.id #>\\'      <# } #>      <# if(item.dataNavRole) { #>        data-nav-role=\\'<#=item.dataNavRole #>\\'      <# } #>      <# if(item.dataNavRef) { #>        data-nav-ref=\\'<#=item.dataNavRef #>\\'      <# } #>      <# if(item.panelKey) { #>        data-nav-panelkey=\\'<#=item.panelKey #>\\'        role=\\'navigation\\'        aria-label=\\'<#=item.text#>\\'      <# } #>      <# if(item.subtextKey) { #>        data-nav-subtextkey=\\'<#=item.subtextKey #>\\'      <# } #>      <# if(item.image && item.image.height > 16) { #>        style=\\'line-height:<#=item.image.height #>px;\\'      <# } #>      >      <# if(item.decorate == \\'carat\\') { #>        <i class=\\'nav-icon\\'></i>      <# } #>      <# if(item.image && item.image.src) { #>        <img class=\\'nav-image\\' src=\\'<#=item.image.src #>\\' style=\\'height:<#=item.image.height #>px; width:<#=item.image.width #>px;\\' />      <# } #>      <# if(item.text) { #>        <span class=\\'nav-text<# if(item.classname) { #> <#=item.classname #><# } #>\\'><#=item.text#><# if(item.badgeText) { #>          <span class=\\'nav-badge\\'><#=item.badgeText#></span>        <# } #></span>      <# } else if (item.content) { #>        <span class=\\'nav-content\\'><# jQuery.each(item.content, function (j, cItem) { #><# if(cItem.url && cItem.text) { #><a href=\\'<#=cItem.url #>\\' class=\\'nav-a\\'><#=cItem.text #></a><# } else if (cItem.text) { #><#=cItem.text#><# } #><# }); #></span>      <# } #>      <# if(item.subtext) { #>        <span class=\\'nav-subtext\\'><#=item.subtext #></span>      <# } #>      <# if(item.url) { #>        </a>      <# } else {#>        </span>      <# } #>    <# } #>    <# if(item.image && item.image.src) { #>      <# if(item.url) { #>        <a href=\\'<#=item.url #>\\'>       <# } #>      <img class=\\'nav-image\\'      <# if(item.id) { #>        id=\\'<#=item.id #>\\'      <# } #>      src=\\'<#=item.image.src #>\\' <# if (item.alt) { #> alt=\\'<#= item.alt #>\\'<# } #>/>      <# if(item.url) { #>        </a>       <# } #>    <# } #>    <# if(item.items) { #>      <div class=\\'nav-panel\\'> <# renderItems(item.items); #> </div>    <# } #>  <# }); #><# }; #><# renderItems(items); #><# if(hasColumns) { #>  </div><# } #>\",\"subnav\":\"<# if (obj && obj.type === \\'vertical\\') { #>  <# jQuery.each(obj.rows, function (i, row) { #>    <# if (row.flyoutElement === \\'button\\') { #>      <div class=\\'nav_sv_fo_v_button\\'        <# if (row.elementStyle) { #>          style=\\'<#= row.elementStyle #>\\'        <# } #>      >        <a href=\\'<#=row.url #>\\' class=\\'nav-action-button nav-sprite\\'>          <#=row.text #>        </a>      </div>    <# } else if (row.flyoutElement === \\'list\\' && row.list) { #>      <# jQuery.each(row.list, function (j, list) { #>        <div class=\\'nav_sv_fo_v_column <#=(j === 0) ? \\'nav_sv_fo_v_first\\' : \\'\\' #>\\'>          <ul class=\\'<#=list.elementClass #>\\'>          <# jQuery.each(list.linkList, function (k, link) { #>            <# if (k === 0) { link.elementClass += \\' nav_sv_fo_v_first\\'; } #>            <li class=\\'<#=link.elementClass #>\\'>              <# if (link.url) { #>                <a href=\\'<#=link.url #>\\' class=\\'nav_a\\'><#=link.text #></a>              <# } else { #>                <span class=\\'nav_sv_fo_v_span\\'><#=link.text #></span>              <# } #>            </li>          <# }); #>          </ul>        </div>      <# }); #>    <# } else if (row.flyoutElement === \\'link\\') { #>      <# if (row.topSpacer) { #>        <div class=\\'nav_sv_fo_v_clear\\'></div>      <# } #>      <div class=\\'<#=row.elementClass #>\\'>        <a href=\\'<#=row.url #>\\' class=\\'nav_sv_fo_v_lmargin nav_a\\'>          <#=row.text #>        </a>      </div>    <# } #>  <# }); #><# } else if (obj) { #>  <div class=\\'nav_sv_fo_scheduled\\'>    <#= obj #>  </div><# } #>\",\"htmlList\":\"<# jQuery.each(items, function (i, item) { #>  <div class=\\'nav-item\\'>    <#=item #>  </div><# }); #>\"}\\n    })\\n  })\\n</script>\\n\\n\\n  <script type=\"text/javascript\">\\n    window.$Nav && $Nav.declare(\\'config.flyoutURL\\', null);\\n    window.$Nav && $Nav.declare(\\'btf.lite\\');\\n    window.$Nav && $Nav.declare(\\'btf.full\\');\\n    window.$Nav && $Nav.declare(\\'btf.exists\\');\\n    (window.AmazonUIPageJS ? AmazonUIPageJS : P).register(\\'navCF\\');\\n  </script>\\n\\n\\n\\n\\n\\n<!-- NAVYAAN BTF END -->\\n\\n\\n    \\n    \\n    <!-- btf tilu -->\\n\\n\\n<!-- sp:feature:host-btf -->\\n\\n\\n  <input type=\"hidden\" name=\"reviews-page-loaded\"/></div>\\n<!-- sp:end-feature:host-btf -->\\n<!-- sp:feature:aui-preload -->\\n<!-- sp:feature:nav-footer -->\\n<!-- footer pilu -->\\n\\n\\n\\n\\n\\n\\n\\n\\n\\n\\n\\n\\n\\n\\n\\n\\n<div class=\\'navLeftFooter nav-sprite-v1\\' id=\\'navFooter\\'><a href=\"#nav-top\" id=\"navBackToTop\"><div class=\"navFooterBackToTop\"><span class=\"navFooterBackToTopText\">Back to top</span></div></a>\\n\\n<div class=\"navFooterVerticalColumn navAccessibility\" role=\"presentation\"><div class=\"navFooterVerticalRow navAccessibility\" style=\"display: table-row;\"><div class=\"navFooterLinkCol navAccessibility\"><div class=\"navFooterColHead\">Get to Know Us</div><ul><li class=\\'nav_first\\'><a href=\\'https://www.aboutamazon.in/?utm_source=gateway&amp;utm_medium=footer\\' class=\\'nav_a\\'>About Us</a></li><li><a href=\\'https://amazon.jobs\\' class=\\'nav_a\\'>Careers</a></li><li><a href=\\'https://press.aboutamazon.in/?utm_source=gateway&amp;utm_medium=footer\\' class=\\'nav_a\\'>Press Releases</a></li><li><a href=\\'/b?ie=UTF8&amp;node=8872558031&amp;ref_=footer_cares\\' class=\\'nav_a\\'>Amazon Cares</a></li><li class=\\'nav_last\\'><a href=\\'/Online-Charity/b?ie=UTF8&amp;node=4594605031&amp;ref_=footer_smile\\' class=\\'nav_a\\'>Gift a Smile</a></li></ul></div><div class=\"navFooterColSpacerInner navAccessibility\"></div><div class=\"navFooterLinkCol navAccessibility\"><div class=\"navFooterColHead\">Connect with Us</div><ul><li class=\\'nav_first\\'><a href=\\'http://www.amazon.in/gp/redirect.html/ref=footer_fb?location=http://www.facebook.com/AmazonIN&amp;token=2075D5EAC7BB214089728E2183FD391706D41E94&amp;6\\' class=\\'nav_a\\'>Facebook</a></li><li><a href=\\'http://www.amazon.in/gp/redirect.html/ref=footer_twitter?location=http://twitter.com/AmazonIN&amp;token=A309DFBFCB1E37A808FF531934855DC817F130B6&amp;6\\' class=\\'nav_a\\'>Twitter</a></li><li class=\\'nav_last\\'><a href=\\'http://www.amazon.in/gp/redirect.html?location=https://www.instagram.com/amazondotin&amp;token=264882C912E9D005CB1D9B61F12E125D5DF9BFC7&amp;source=standards\\' class=\\'nav_a\\'>Instagram</a></li></ul></div><div class=\"navFooterColSpacerInner navAccessibility\"></div><div class=\"navFooterLinkCol navAccessibility\"><div class=\"navFooterColHead\">Make Money with Us</div><ul><li class=\\'nav_first\\'><a href=\\'/b/?_encoding=UTF8&amp;ld=AZINSOANavDesktopFooter&amp;node=2838698031&amp;ref_=nav_footer_sell\\' class=\\'nav_a\\'>Sell on Amazon</a></li><li><a href=\\'https://accelerator.amazon.in/?ref_=map_1_b2b_GW_FT\\' class=\\'nav_a\\'>Sell under Amazon Accelerator</a></li><li><a href=\\'/gp/redirect.html?_encoding=UTF8&amp;location=https%3A%2F%2Faffiliate-program.amazon.in%2F%3Fref_%3Dfooter_assoc%26utm_campaign%3Dassocshowcase%26utm_medium%3Dfooter%26utm_source%3DGW&amp;source=standards&amp;token=4D7ADB5A094B04230C576B761FB8EC3D657E2376\\' class=\\'nav_a\\'>Become an Affiliate</a></li><li><a href=\\'http://services.amazon.in/services/fulfilment-by-amazon/benefits.html/ref=az_footer_fba?ld=AWRGINFBAfooter\\' class=\\'nav_a\\'>Fulfilment by Amazon</a></li><li><a href=\\'https://advertising.amazon.in/?ref=Amz.in\\' class=\\'nav_a\\'>Advertise Your Products</a></li><li><a href=\\'https://www.amazonpay.in/merchant\\' class=\\'nav_a\\'>Amazon Pay on Merchants</a></li><li class=\\'nav_last\\'><a href=\\'https://www.amazon.in/b/?node=16183878031&amp;ref_=nav_footer_oneamazon&amp;ld=AZINONEAMAZONNavDesktopFooter\\' class=\\'nav_a\\'>See More Make Money with Us</a></li></ul></div><div class=\"navFooterColSpacerInner navAccessibility\"></div><div class=\"navFooterLinkCol navAccessibility\"><div class=\"navFooterColHead\">Let Us Help You</div><ul><li class=\\'nav_first\\'><a href=\\'/gp/help/customer/display.html?ie=UTF8&amp;nodeId=GDFU3JS5AL6SYHRD&amp;ref_=footer_covid\\' class=\\'nav_a\\'>COVID-19 and Amazon</a></li><li><a href=\\'/gp/css/homepage.html?ie=UTF8&amp;ref_=footer_ya\\' class=\\'nav_a\\'>Your Account</a></li><li><a href=\\'/gp/css/returns/homepage.html?ie=UTF8&amp;ref_=footer_hy_f_4\\' class=\\'nav_a\\'>Returns Centre</a></li><li><a href=\\'/gp/help/customer/display.html?ie=UTF8&amp;nodeId=201083470&amp;ref_=footer_swc\\' class=\\'nav_a\\'>100% Purchase Protection</a></li><li><a href=\\'/b?ie=UTF8&amp;node=6967393031&amp;ref_=footer_mobapp\\' class=\\'nav_a\\'>Amazon App Download</a></li><li><a href=\\'/gp/BIT/theamazonapp/ref=footer_assistant_download_copy\\' class=\\'nav_a\\'>Amazon Assistant Download</a></li><li class=\\'nav_last\\'><a href=\\'/gp/help/customer/display.html?ie=UTF8&amp;nodeId=200507590&amp;ref_=footer_gw_m_b_he\\' class=\\'nav_a\\'>Help</a></li></ul></div></div></div><div class=\"nav-footer-line\"></div>\\n   \\n<div class=\"navFooterLine navFooterLinkLine navFooterPadItemLine\"><span><div class=\"navFooterLine navFooterLogoLine\"><a href=\"/ref=footer_logo\"><div class=\"nav-logo-base nav-sprite\"></div></a></div>\\n</span><ul></ul><span class=\"icp-container-desktop\"><div class=\"navFooterLine\">\\n\\n\\n\\n\\n\\n\\n\\n\\n\\n\\n\\n\\n  \\n\\n\\n\\n\\n\\n\\n\\n\\n\\n<style type=\"text/css\">\\n  #icp-touch-link-language { display: none; }\\n</style>\\n\\n<a href=\"/gp/customer-preferences/select-language?ie=UTF8&preferencesReturnUrl=%2F\" class=\"icp-button\" id=\"icp-touch-link-language\">\\n  <div class=\"icp-nav-globe-img-2 icp-button-globe-2\"></div\\n  ><span class=\"icp-color-base\">English</span\\n  ><span class=\"nav-arrow icp-up-down-arrow\"></span\\n  ><span class=\"aok-hidden\" style=\"display:none\">Choose a language for shopping.</span>\\n</a>\\n\\n\\n\\n\\n\\n\\n\\n\\n\\n\\n<style type=\"text/css\">\\n#icp-touch-link-country { display: none; }\\n</style>\\n\\n  \\n\\n\\n\\n</div>\\n</span><ul></ul></div>\\n\\n<div class=\"navFooterLine navFooterLinkLine navFooterPadItemLine \"><ul><li class=\\'nav_first\\'><a href=\\'http://www.amazon.com.au/ref=footer_au\\' class=\\'nav_a\\'>Australia</a></li><li><a href=\\'http://www.amazon.com.br/ref=footer_br\\' class=\\'nav_a\\'>Brazil</a></li><li><a href=\\'http://www.amazon.ca/ref=footer_ca\\' class=\\'nav_a\\'>Canada</a></li><li><a href=\\'http://www.amazon.cn/ref=footer_cn\\' class=\\'nav_a\\'>China</a></li><li><a href=\\'http://www.amazon.fr/ref=footer_fr\\' class=\\'nav_a\\'>France</a></li><li><a href=\\'http://www.amazon.de/ref=footer_de\\' class=\\'nav_a\\'>Germany</a></li><li><a href=\\'http://www.amazon.it/ref=footer_it\\' class=\\'nav_a\\'>Italy</a></li><li><a href=\\'http://www.amazon.co.jp/ref=footer_jp\\' class=\\'nav_a\\'>Japan</a></li><li><a href=\\'http://www.amazon.com.mx/ref=footer_mx\\' class=\\'nav_a\\'>Mexico</a></li><li><a href=\\'http://www.amazon.nl/ref=footer_nl\\' class=\\'nav_a\\'>Netherlands</a></li><li><a href=\\'http://www.amazon.sg/ref=footer_sg\\' class=\\'nav_a\\'>Singapore</a></li><li><a href=\\'http://www.amazon.es/ref=footer_es\\' class=\\'nav_a\\'>Spain</a></li><li><a href=\\'http://www.amazon.ae/ref=footer_ae\\' class=\\'nav_a\\'>United Arab Emirates</a></li><li><a href=\\'http://www.amazon.co.uk/ref=footer_uk\\' class=\\'nav_a\\'>United Kingdom</a></li><li class=\\'nav_last\\'><a href=\\'http://www.amazon.com/ref=footer_us\\' class=\\'nav_a\\'>United States</a></li></ul></div>\\n\\n<div class=\"navFooterLine navFooterLinkLine navFooterDescLine\"><table class=\"navFooterMoreOnAmazon\" cellspacing=\"0\"><tr>\\n<td class=\"navFooterDescItem\"><a href=\\'https://www.abebooks.com/\\' class=\\'nav_a\\'>AbeBooks<br/> <span class=\"navFooterDescText\">Books, art<br/> & collectibles</span></a></td>\\n<td class=\"navFooterDescSpacer\" style=\"width: 4%\"></td>\\n<td class=\"navFooterDescItem\"><a href=\\'https://aws.amazon.com/what-is-cloud-computing/?sc_channel=EL&amp;sc_campaign=IN_amazonfooter\\' class=\\'nav_a\\'>Amazon Web Services<br/> <span class=\"navFooterDescText\">Scalable Cloud<br/> Computing Services</span></a></td>\\n<td class=\"navFooterDescSpacer\" style=\"width: 4%\"></td>\\n<td class=\"navFooterDescItem\"><a href=\\'https://www.audible.in/\\' class=\\'nav_a\\'>Audible<br/> <span class=\"navFooterDescText\">Download<br/> Audio Books</span></a></td>\\n<td class=\"navFooterDescSpacer\" style=\"width: 4%\"></td>\\n<td class=\"navFooterDescItem\"><a href=\\'https://www.dpreview.com/\\' class=\\'nav_a\\'>DPReview<br/> <span class=\"navFooterDescText\">Digital<br/> Photography</span></a></td>\\n<td class=\"navFooterDescSpacer\" style=\"width: 4%\"></td>\\n<td class=\"navFooterDescItem\"><a href=\\'https://www.imdb.com/\\' class=\\'nav_a\\'>IMDb<br/> <span class=\"navFooterDescText\">Movies, TV<br/> & Celebrities</span></a></td>\\n</tr>\\n<tr><td>&nbsp;</td></tr>\\n<tr>\\n<td class=\"navFooterDescItem\"><a href=\\'https://www.shopbop.com/\\' class=\\'nav_a\\'>Shopbop<br/> <span class=\"navFooterDescText\">Designer<br/> Fashion Brands</span></a></td>\\n<td class=\"navFooterDescSpacer\" style=\"width: 4%\"></td>\\n<td class=\"navFooterDescItem\"><a href=\\'/business?ref=footer_aingw\\' class=\\'nav_a\\'>\\t\\nAmazon Business<br/> <span class=\"navFooterDescText\">Everything For<br/> Your Business</span></a></td>\\n<td class=\"navFooterDescSpacer\" style=\"width: 4%\"></td>\\n<td class=\"navFooterDescItem\"><a href=\\'/now?ref=footer_amznow\\' class=\\'nav_a\\'>Prime Now<br/> <span class=\"navFooterDescText\"> 2-Hour Delivery<br/> on Everyday Items</span></a></td>\\n<td class=\"navFooterDescSpacer\" style=\"width: 4%\"></td>\\n<td class=\"navFooterDescItem\"><a href=\\'/music/prime?ref=footer_apm\\' class=\\'nav_a\\'>Amazon Prime Music<br/> <span class=\"navFooterDescText\">70 million songs, ad-free</span></a></td>\\n<td class=\"navFooterDescSpacer\" style=\"width: 4%\"></td>\\n<td class=\"navFooterDescItem\">&nbsp;</td>\\n</tr>\\n</table></div>\\n   \\n<div class=\"navFooterLine navFooterLinkLine navFooterPadItemLine navFooterCopyright\"><ul><li class=\\'nav_first\\'><a href=\\'/gp/help/customer/display.html?ie=UTF8&amp;nodeId=200545940&amp;ref_=footer_cou\\' class=\\'nav_a\\'>Conditions of Use & Sale</a></li><li><a href=\\'/gp/help/customer/display.html?ie=UTF8&amp;nodeId=200534380&amp;ref_=footer_privacy\\' class=\\'nav_a\\'>Privacy Notice</a></li><li class=\\'nav_last\\'><a href=\\'/gp/help/customer/display.html?ie=UTF8&amp;nodeId=202075050&amp;ref_=footer_iba\\' class=\\'nav_a\\'>Interest-Based Ads</a></li></ul><span>\\xc2\\xa9 1996-2021, Amazon.com, Inc. or its affiliates</span><ul></ul></div>\\n</div><!-- whfh-JZJc8P5W8awooLhuWEHBOJe9G3SSqmcB833oH4yReFh9sACjEqDGmA== rid-7G7783YR1YJP29JQWR0C -->\\n\\n\\n    \\n    \\n\\n\\n\\n\\n\\n<div id=\"sis_pixel_r2\" aria-hidden=\"true\" style=\"height:1px; position: absolute; left: -1000000px; top: -1000000px;\"></div><!-- footer tilu -->\\n\\n\\n<!-- sp:feature:amazon-pay-iframe -->\\n<!-- sp:end-feature:amazon-pay-iframe -->\\n\\n</div></body></html>\\n<!--       _\\n       .__(.)< (MEOW)\\n        \\\\___)   \\n ~~~~~~~~~~~~~~~~~~-->\\n<!-- sp:eh:3253XjuEPDFaC4TlifwDv9C9cTEGm4NjM7qXs2k/mFEWS+qgv0yxWdCajzJj/AHodrwtDNMI2GVpRM7dagnpRjtuDb1ykSzqVt6DWHgzc+4YGiyqyMl4f+0mER8= -->\\n'"
      ]
     },
     "metadata": {},
     "execution_count": 16
    }
   ],
   "source": [
    "amazon_url_to_crawl = \"https://www.amazon.in/Test-Exclusive-558/product-reviews/B077PWJRFH/?pageNumber=2\"\n",
    "user_agent = \"Mozilla/5.0 (Windows NT 10.0; Win64; x64) AppleWebKit/537.36 (KHTML, like Gecko) Chrome/87.0.4280.141 Safari/537.36\"\n",
    "headers = {\n",
    "    'User_agent': user_agent\n",
    "}\n",
    "page = requests.get(amazon_url_to_crawl, headers=headers)\n",
    "    \n",
    "\n"
   ]
  },
  {
   "cell_type": "code",
   "execution_count": 17,
   "metadata": {},
   "outputs": [
    {
     "output_type": "execute_result",
     "data": {
      "text/plain": [
       "<Element html at 0x20215b38bd8>"
      ]
     },
     "metadata": {},
     "execution_count": 17
    }
   ],
   "source": [
    "parser = html.fromstring(page.content)\n",
    "parser"
   ]
  },
  {
   "cell_type": "code",
   "execution_count": 20,
   "metadata": {},
   "outputs": [
    {
     "output_type": "execute_result",
     "data": {
      "text/plain": [
       "list"
      ]
     },
     "metadata": {},
     "execution_count": 20
    }
   ],
   "source": [
    "xpath_reviews = '//div[@data-hook=\"review\"]'\n",
    "reviews = parser.xpath(xpath_reviews)"
   ]
  },
  {
   "cell_type": "code",
   "execution_count": 35,
   "metadata": {},
   "outputs": [],
   "source": [
    "reviews_dataframe = pd.DataFrame()\n",
    "for review in reviews:\n",
    "    user_name = review.xpath(\".//div[@class='a-profile-content']//text()\")[0]\n",
    "    star_rating = review.xpath(\".//i[@data-hook='review-star-rating']//text()\")[0]\n",
    "    body = review.xpath(\".//span[@data-hook='review-body']//text()\")\n",
    "    #print(user_name,\" \",str(star_rating).split(\" \")[0])\n",
    "    date = review.xpath(\".//span[@data-hook='review-date']//text()\")[0].split(\"on \")[1]\n",
    "    reviews_dict = {\n",
    "        'user_name': user_name,\n",
    "        'start_rating': star_rating,\n",
    "        'body': body,\n",
    "        'date':date\n",
    "    }\n",
    "    reviews_dataframe = reviews_dataframe.append(reviews_dict, ignore_index=True)\n",
    "    reviews_dataframe.to_csv(\"amazon_product_reviews.csv\")\n",
    "    #print(date)\n",
    "   # print (\"\\n\", body, \"\\n\" )"
   ]
  },
  {
   "cell_type": "code",
   "execution_count": 36,
   "metadata": {},
   "outputs": [
    {
     "output_type": "stream",
     "name": "stdout",
     "text": [
      "                                                body           date  \\\n0  [\\n\\n\\n\\n\\n\\n\\n\\n\\n\\n  \\n  \\n    , \\n  After 5...    1 July 2020   \n1  [\\n\\n\\n\\n\\n\\n\\n\\n\\n\\n  \\n  \\n    , \\n  Please🙏...   22 June 2020   \n2  [\\n\\n\\n\\n\\n\\n\\n\\n\\n\\n  \\n  \\n    , \\n  Best ph...   14 June 2020   \n3  [\\n\\n\\n\\n\\n\\n\\n\\n\\n\\n  \\n  \\n    , \\n  Do not ...   10 June 2020   \n4  [\\n\\n\\n\\n\\n\\n\\n\\n\\n\\n  \\n  \\n    , \\n  Initial...  1 August 2020   \n5  [\\n\\n\\n\\n\\n\\n\\n\\n\\n\\n  \\n  \\n    , \\n  I purch...  9 August 2020   \n6  [\\n\\n\\n\\n\\n\\n\\n\\n\\n\\n  \\n  \\n    , \\n  Worst p...    1 June 2020   \n7  [\\n\\n\\n\\n\\n\\n\\n\\n\\n\\n  \\n  \\n    , \\n  Excelle...   15 June 2020   \n8  [\\n\\n\\n\\n\\n\\n\\n\\n\\n\\n  \\n  \\n    , \\n  Guys ia...   30 June 2020   \n9  [\\n\\n\\n\\n\\n\\n\\n\\n\\n\\n  \\n  \\n    , \\n  ITS HAN...    7 June 2020   \n\n         start_rating          user_name  \n0  4.0 out of 5 stars          RaghulJay  \n1  1.0 out of 5 stars    Md ali ganiyani  \n2  5.0 out of 5 stars        Prashant s.  \n3  1.0 out of 5 stars  Anandakrishnan Gs  \n4  5.0 out of 5 stars     Sagar Narkhede  \n5  2.0 out of 5 stars          Sathish R  \n6  1.0 out of 5 stars     Piyush Mohanta  \n7  4.0 out of 5 stars        Arun Pandey  \n8  3.0 out of 5 stars              Nidhy  \n9  1.0 out of 5 stars            Dheeraj  \n"
     ]
    }
   ],
   "source": [
    "print(reviews_dataframe)"
   ]
  }
 ]
}